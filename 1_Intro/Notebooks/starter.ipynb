{
 "cells": [
  {
   "cell_type": "code",
   "execution_count": 1,
   "id": "0ef880a0",
   "metadata": {},
   "outputs": [],
   "source": [
    "import pickle\n",
    "import pandas as pd"
   ]
  },
  {
   "cell_type": "code",
   "execution_count": 3,
   "id": "7836ccfd",
   "metadata": {},
   "outputs": [],
   "source": [
    "with open('model.bin', 'rb') as f_in:\n",
    "    dv, model = pickle.load(f_in)"
   ]
  },
  {
   "cell_type": "code",
   "execution_count": 4,
   "id": "41c08294",
   "metadata": {},
   "outputs": [],
   "source": [
    "categorical = ['PULocationID', 'DOLocationID']\n",
    "\n",
    "def read_data(filename):\n",
    "    df = pd.read_parquet(filename)\n",
    "    \n",
    "    df['duration'] = df.tpep_dropoff_datetime - df.tpep_pickup_datetime\n",
    "    df['duration'] = df.duration.dt.total_seconds() / 60\n",
    "\n",
    "    df = df[(df.duration >= 1) & (df.duration <= 60)].copy()\n",
    "\n",
    "    df[categorical] = df[categorical].fillna(-1).astype('int').astype('str')\n",
    "    \n",
    "    return df"
   ]
  },
  {
   "cell_type": "code",
   "execution_count": 5,
   "id": "4854399a",
   "metadata": {},
   "outputs": [],
   "source": [
    "df = read_data('https://d37ci6vzurychx.cloudfront.net/trip-data/yellow_tripdata_2022-02.parquet')"
   ]
  },
  {
   "cell_type": "code",
   "execution_count": 6,
   "id": "669fda0a",
   "metadata": {},
   "outputs": [],
   "source": [
    "dicts = df[categorical].to_dict(orient='records')\n",
    "X_val = dv.transform(dicts)\n",
    "y_pred = model.predict(X_val)"
   ]
  },
  {
   "attachments": {},
   "cell_type": "markdown",
   "id": "382bf0a5",
   "metadata": {},
   "source": [
    "1- 10.28  \n",
    "2- 58  \n",
    "3- "
   ]
  },
  {
   "cell_type": "code",
   "execution_count": 11,
   "id": "c48878d8",
   "metadata": {},
   "outputs": [],
   "source": [
    "year = 2022\n",
    "month = 2\n",
    "df['ride_id'] = f'{year:04d}/{month:02d}_' + df.index.astype('str')"
   ]
  },
  {
   "cell_type": "code",
   "execution_count": 17,
   "id": "857a7953",
   "metadata": {},
   "outputs": [],
   "source": [
    "def save_results(df, y_pred, output_file):\n",
    "    df_result = pd.DataFrame()\n",
    "    df_result['ride_id'] = df.ride_id\n",
    "    # df_result['tpep_pickup_datetime'] = df.tpep_pickup_datetime\n",
    "    # df_result['tpep_dropoff_datetime'] = df.tpep_dropoff_datetime\n",
    "    # df_result[\"PULocationID\"] = df.PULocationID\n",
    "    # df_result[\"DOLocationID\"] = df.DOLocationID\n",
    "    # df_result[\"duration\"] = df.duration\n",
    "    df_result[\"duration_predicted\"] = y_pred\n",
    "    # df['prediction_error'] = df_result.duration_predicted - df_result.duration\n",
    "    df_result.to_parquet(\n",
    "    output_file,\n",
    "    engine='pyarrow',\n",
    "    compression=None,\n",
    "    index=False\n",
    "    )"
   ]
  },
  {
   "cell_type": "code",
   "execution_count": 18,
   "id": "e3c166ef",
   "metadata": {},
   "outputs": [],
   "source": [
    "print('predicted mean duration:', y_pred.mean())\n",
    "save_results(df, y_pred, 'predictions.parquet')"
   ]
  },
  {
   "cell_type": "code",
   "execution_count": null,
   "id": "6a3f8b18",
   "metadata": {},
   "outputs": [],
   "source": []
  }
 ],
 "metadata": {
  "kernelspec": {
   "display_name": "Python 3 (ipykernel)",
   "language": "python",
   "name": "python3"
  },
  "language_info": {
   "codemirror_mode": {
    "name": "ipython",
    "version": 3
   },
   "file_extension": ".py",
   "mimetype": "text/x-python",
   "name": "python",
   "nbconvert_exporter": "python",
   "pygments_lexer": "ipython3",
   "version": "3.10.6"
  }
 },
 "nbformat": 4,
 "nbformat_minor": 5
}
